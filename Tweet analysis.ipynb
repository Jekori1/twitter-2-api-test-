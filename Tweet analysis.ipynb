{
 "cells": [
  {
   "cell_type": "code",
   "execution_count": 19,
   "id": "a5a9c87e",
   "metadata": {},
   "outputs": [],
   "source": [
    "import tweepy\n",
    "from textblob import TextBlob\n",
    "import matplotlib.pyplot as plt\n",
    "import pandas as pd\n",
    "#import sys\n",
    "#print(sys.executable)"
   ]
  },
  {
   "cell_type": "code",
   "execution_count": 20,
   "id": "7b40938c",
   "metadata": {},
   "outputs": [],
   "source": [
    "def authenticate():\n",
    "    consumer_key = 'VRDK1GvONXQTiRWoc3Y5Nmkyv'\n",
    "    consumer_secret = 'uoKyZaMtxKQRAZfmTbWjP2T4I2vBWgoKbmoSSZn585Mk4uCwpv'\n",
    "    access_token = '1649440446580510720-AjcmXC6q4MF5Qw7y9lkARAXhTRjG3p'\n",
    "    access_secret = 'VDtwSFyhgdtb71aTBUJ9sEJ492dyJX2RBfkzmqIQFDOsr'\n",
    "    \n",
    "    auth = tweepy.OAuthHandler(consumer_key, consumer_secret)\n",
    "    auth.set_access_token(access_token, access_secret)\n",
    "    \n",
    "    api = tweepy.API(auth)\n",
    "    return api"
   ]
  },
  {
   "cell_type": "code",
   "execution_count": 21,
   "id": "8687e3e3",
   "metadata": {},
   "outputs": [],
   "source": [
    "def get_tweets(api, topic, count, lang=None, result_type=None):\n",
    "    tweets = []\n",
    "    for tweet in tweepy.Cursor(api.search_tweets, q=topic, lang=lang, result_type=result_type, tweet_mode='extended').items(count):\n",
    "        tweet_info = {\n",
    "            'text': tweet.full_text,\n",
    "            'retweets': tweet.retweet_count,\n",
    "            'favorites': tweet.favorite_count,\n",
    "            'created_at': tweet.created_at\n",
    "        }\n",
    "        tweets.append(tweet_info)\n",
    "    return tweets"
   ]
  },
  {
   "cell_type": "code",
   "execution_count": 22,
   "id": "950551a3",
   "metadata": {},
   "outputs": [],
   "source": [
    "def analyze_sentiment(tweet):\n",
    "    analysis = TextBlob(tweet)\n",
    "    return analysis.sentiment.polarity\n"
   ]
  },
  {
   "cell_type": "code",
   "execution_count": 23,
   "id": "3c705d5c",
   "metadata": {},
   "outputs": [],
   "source": [
    "def plot_sentiment_scores(scores):\n",
    "    plt.hist(scores, bins=10)\n",
    "    plt.title('Sentiment Scores')\n",
    "    plt.xlabel('Polarity')\n",
    "    plt.ylabel('Count')\n",
    "    plt.savefig('sentiment_scores.png')\n",
    "    plt.show()"
   ]
  },
  {
   "cell_type": "code",
   "execution_count": null,
   "id": "668093dc",
   "metadata": {},
   "outputs": [],
   "source": []
  },
  {
   "cell_type": "code",
   "execution_count": 26,
   "id": "8f0c75aa",
   "metadata": {},
   "outputs": [],
   "source": [
    "def main():\n",
    "    api = authenticate()\n",
    "    topic = input('Enter topic: ')\n",
    "    count = int(input('Number of tweets (no more than 20): '))\n",
    "    lang = input('Enter language(e.g.en): ')\n",
    "    result_type = input('Enter result filter (e.g., recent, popular, mixed): ')\n",
    "    \n",
    "    tweets = get_tweets(api, topic, count, lang=lang, result_type=result_type)\n",
    "    sentiment_scores = []\n",
    "    retweet_counts = []\n",
    "    favorite_counts = []\n",
    "    for tweet in tweets:\n",
    "        sentiment_score = analyze_sentiment(tweet['text'])\n",
    "        sentiment_scores.append(sentiment_score)\n",
    "        retweet_counts.append(tweet['retweets'])\n",
    "        favorite_counts.append(tweet['favorites'])\n",
    "        print(tweet['text'])\n",
    "        print('Sentiment score:', sentiment_score)\n",
    "        print('Retweets:', tweet['retweets'])\n",
    "        print('Favorites:', tweet['favorites'])\n",
    "        print('Created at:', tweet['created_at'])\n",
    "        print()\n",
    "    \n",
    "    plot_sentiment_scores(sentiment_scores)\n",
    "    \n",
    "    print('Sentiment score histogram:')\n",
    "    print('-------------------------')\n",
    "    print('Polarity score ranges from -1 (very negative) to 1 (very positive).')"
   ]
  },
  {
   "cell_type": "code",
   "execution_count": 27,
   "id": "c22d68ee",
   "metadata": {},
   "outputs": [
    {
     "name": "stdout",
     "output_type": "stream",
     "text": [
      "Enter topic: Elon Musk\n",
      "Number of tweets (no more than 20): 10\n",
      "Enter language(e.g.en): en\n",
      "Enter result filter (e.g., recent, popular, mixed): popular\n",
      "BREAKING: Elon Musk’s Starship explodes midair during first integrated flight test 😳🚀 https://t.co/60Sfvy4Tg1\n",
      "Sentiment score: 0.25\n",
      "Retweets: 4836\n",
      "Favorites: 95399\n",
      "Created at: 2023-04-20 14:20:09+00:00\n",
      "\n",
      "Elon Musk reveals he is ‘personally paying’ the Twitter Blue subscriptions of some celebrities to keep their checkmark, such as Lebron James and Stephen King. https://t.co/ulLvwOyLIn\n",
      "Sentiment score: 0.0\n",
      "Retweets: 6523\n",
      "Favorites: 92686\n",
      "Created at: 2023-04-20 23:51:31+00:00\n",
      "\n",
      "BREAKING: Elon Musk Just Took Away George Soros’s Verification Badge!\n",
      "Sentiment score: 0.0\n",
      "Retweets: 5706\n",
      "Favorites: 45798\n",
      "Created at: 2023-04-20 19:02:52+00:00\n",
      "\n",
      "NEW: Have confirmed that LeBron, who has 52 million followers and has said he won’t pay for verification, was emailed by a Twitter employee with the offer to have his sub comped “on behalf of Elon Musk.” \n",
      "\n",
      "James did not accept but his account is showing that he paid anyway.\n",
      "Sentiment score: 0.2681818181818182\n",
      "Retweets: 5204\n",
      "Favorites: 18577\n",
      "Created at: 2023-04-20 22:04:57+00:00\n",
      "\n",
      "\"We open sourced the recommendation algorithm. We're gonna open source the entire thing. Complete transparency is the only path to trust.\"\n",
      "\n",
      "— Elon Musk 📹 @NBCUniversal https://t.co/GkHweb7PFf\n",
      "Sentiment score: 0.02\n",
      "Retweets: 4475\n",
      "Favorites: 28046\n",
      "Created at: 2023-04-20 22:26:27+00:00\n",
      "\n",
      "Rocket jokes aside, it's time for @POTUS and the US Government to pull all funding for Space X and Elon Musk. This is not a worthy space and technology partner for American taxpayers. And it's potentially a security risk for NATO.\n",
      "Sentiment score: -0.05555555555555555\n",
      "Retweets: 618\n",
      "Favorites: 1961\n",
      "Created at: 2023-04-20 13:50:46+00:00\n",
      "\n",
      "Elon Musk confirms he’s paying for LeBron James’ verification check mark https://t.co/nZMK3NO22u\n",
      "Sentiment score: 0.0\n",
      "Retweets: 2458\n",
      "Favorites: 36533\n",
      "Created at: 2023-04-20 22:29:20+00:00\n",
      "\n",
      "Elon Musk doesn’t want you to share this\n",
      "\n",
      "#SpaceX https://t.co/qUHpbjre0m\n",
      "Sentiment score: 0.0\n",
      "Retweets: 655\n",
      "Favorites: 2228\n",
      "Created at: 2023-04-20 13:58:59+00:00\n",
      "\n",
      "Elon Musk threatens to sue Microsoft, claiming tech giant was ‘illegally using Twitter data’\n",
      "\n",
      "https://t.co/otsdkL4pBS\n",
      "Sentiment score: -0.25\n",
      "Retweets: 1128\n",
      "Favorites: 4729\n",
      "Created at: 2023-04-20 02:51:02+00:00\n",
      "\n",
      "Elon Musk’s SpaceX Starship rocket explodes mid-flight after boosters fail to separate from shuttle. https://t.co/7BHxtcsvJM\n",
      "Sentiment score: -0.5\n",
      "Retweets: 1414\n",
      "Favorites: 35027\n",
      "Created at: 2023-04-20 13:56:46+00:00\n",
      "\n"
     ]
    },
    {
     "data": {
      "image/png": "[encoded data removed]",
      "text/plain": [
       "<Figure size 432x288 with 1 Axes>"
      ]
     },
     "metadata": {
      "needs_background": "light"
     },
     "output_type": "display_data"
    },
    {
     "name": "stdout",
     "output_type": "stream",
     "text": [
      "Sentiment score histogram:\n",
      "-------------------------\n",
      "Polarity score ranges from -1 (very negative) to 1 (very positive).\n"
     ]
    }
   ],
   "source": [
    "main()"
   ]
  },
  {
   "cell_type": "code",
   "execution_count": null,
   "id": "ca9fec5d",
   "metadata": {},
   "outputs": [],
   "source": []
  }
 ],
 "metadata": {
  "kernelspec": {
   "display_name": "Python 3 (ipykernel)",
   "language": "python",
   "name": "python3"
  },
  "language_info": {
   "codemirror_mode": {
    "name": "ipython",
    "version": 3
   },
   "file_extension": ".py",
   "mimetype": "text/x-python",
   "name": "python",
   "nbconvert_exporter": "python",
   "pygments_lexer": "ipython3",
   "version": "3.10.6"
  }
 },
 "nbformat": 4,
 "nbformat_minor": 5
}
