{
 "cells": [
  {
   "cell_type": "code",
   "execution_count": 65,
   "id": "a5a9c87e",
   "metadata": {},
   "outputs": [],
   "source": [
    "import tweepy\n",
    "from textblob import TextBlob\n",
    "import matplotlib.pyplot as plt\n",
    "import pandas as pd\n",
    "#import sys\n",
    "#print(sys.executable)"
   ]
  },
  {
   "cell_type": "code",
   "execution_count": 66,
   "id": "7b40938c",
   "metadata": {},
   "outputs": [],
   "source": [
    "def authenticate():\n",
    "    consumer_key = 'VRDK1GvONXQTiRWoc3Y5Nmkyv'\n",
    "    consumer_secret = 'uoKyZaMtxKQRAZfmTbWjP2T4I2vBWgoKbmoSSZn585Mk4uCwpv'\n",
    "    access_token = '1649440446580510720-AjcmXC6q4MF5Qw7y9lkARAXhTRjG3p'\n",
    "    access_secret = 'VDtwSFyhgdtb71aTBUJ9sEJ492dyJX2RBfkzmqIQFDOsr'\n",
    "    \n",
    "    auth = tweepy.OAuthHandler(consumer_key, consumer_secret)\n",
    "    auth.set_access_token(access_token, access_secret)\n",
    "    \n",
    "    api = tweepy.API(auth)\n",
    "    return api"
   ]
  },
  {
   "cell_type": "code",
   "execution_count": 67,
   "id": "8687e3e3",
   "metadata": {},
   "outputs": [],
   "source": [
    "def get_tweets(api, topic, count=10):\n",
    "    tweets = []\n",
    "    for tweet in tweepy.Cursor(api.search_tweets, q=topic, lang='en').items(count):\n",
    "        tweets.append(tweet.text)\n",
    "    return tweets"
   ]
  },
  {
   "cell_type": "code",
   "execution_count": 68,
   "id": "950551a3",
   "metadata": {},
   "outputs": [],
   "source": [
    "def analyze_sentiment(tweet):\n",
    "    analysis = TextBlob(tweet)\n",
    "    return analysis.sentiment.polarity\n"
   ]
  },
  {
   "cell_type": "code",
   "execution_count": 69,
   "id": "3c705d5c",
   "metadata": {},
   "outputs": [],
   "source": [
    "def plot_sentiment_scores(scores):\n",
    "    plt.hist(scores, bins=10)\n",
    "    plt.title('Sentiment Scores')\n",
    "    plt.xlabel('Polarity')\n",
    "    plt.ylabel('Count')\n",
    "    plt.savefig('sentiment_scores.png')\n",
    "    plt.show()"
   ]
  },
  {
   "cell_type": "code",
   "execution_count": null,
   "id": "668093dc",
   "metadata": {},
   "outputs": [],
   "source": []
  },
  {
   "cell_type": "code",
   "execution_count": 70,
   "id": "8f0c75aa",
   "metadata": {},
   "outputs": [],
   "source": [
    "def main():\n",
    "    api = authenticate()\n",
    "    topic = input('Enter a topic to search for: ')\n",
    "    count = int(input('Enter the number of tweets to analyze: '))\n",
    "    \n",
    "    tweets = get_tweets(api, topic, count)\n",
    "    scores = []\n",
    "    for tweet in tweets:\n",
    "        score = analyze_sentiment(tweet)\n",
    "        scores.append(score)\n",
    "        print(tweet)\n",
    "        print('Sentiment score:', score)\n",
    "        print()\n",
    "    \n",
    "    plot_sentiment_scores(scores)\n",
    "    \n",
    "    # Add image description\n",
    "    print('Sentiment score histogram:')\n",
    "    print('-------------------------')\n",
    "    print('Polarity score ranges from -1 (very negative) to 1 (very positive).')"
   ]
  },
  {
   "cell_type": "code",
   "execution_count": 71,
   "id": "c22d68ee",
   "metadata": {},
   "outputs": [
    {
     "name": "stdout",
     "output_type": "stream",
     "text": [
      "Enter a topic to search for: nature and race\n",
      "Enter the number of tweets to analyze: 10\n",
      "@CBI8400 @LeodiusD @Nature_and_Race You’re only making the Nazi’s grand strategy look even less competent. \n",
      "\n",
      "What’s… https://t.co/LMpB2isnWJ\n",
      "Sentiment score: 0.20833333333333334\n",
      "\n",
      "@real_griffitsu @Nature_and_Race doubt he even broke TOS, tho. 😤 N&amp;R didn't exactly go around fedposting, or the li… https://t.co/1sUF5tRTxw\n",
      "Sentiment score: 0.25\n",
      "\n",
      "@elonmusk689 @NotWoke0 @joe76228137 @thfcmxtt @Nature_and_Race I guess you already know.\n",
      "But hey, you won't admit i… https://t.co/MmyK0450HJ\n",
      "Sentiment score: 0.0\n",
      "\n",
      "@tboomjunkie @pepesilvia2028 @Nature_and_Race Well my family is Georgian/Turkish/abkhazian /do someone gives a shit… https://t.co/cubLfAlnil\n",
      "Sentiment score: 0.0\n",
      "\n",
      "@StrawberryEclir @TheFellaEnto @Nature_and_Race Russians are not white\n",
      "Sentiment score: 0.0\n",
      "\n",
      "RT @berserkir_088: @GodLovesYou2000 @Nature_and_Race @giddyuplilone Uh oh. Time for you to shake off all those jew lies you've been gorging…\n",
      "Sentiment score: 0.0\n",
      "\n",
      "@SteveTownsend0 @HRHTish @Nature_and_Race Just like that, gone! 😂 https://t.co/EPvUWbzF8Z\n",
      "Sentiment score: 0.0\n",
      "\n",
      "@gme_amc @Zack8841 @tarnedahl @Nature_and_Race Sadly\n",
      "Sentiment score: -0.5\n",
      "\n",
      "@naogostodpretos @WembyCentral @RyB_311 @Nature_and_Race Follow your leader, your recommended O2 level is 0, find a bridge, etc etc etc go\n",
      "Sentiment score: 0.0\n",
      "\n",
      "RT @RyB_311: @Nature_and_Race Let’s take a look at Hitmickeys resume\n",
      "\n",
      "-Mickey Mouse invasion of Poland\n",
      "-Didn’t create superior race\n",
      "-Didn’t…\n",
      "Sentiment score: 0.7\n",
      "\n"
     ]
    },
    {
     "data": {
      "image/png": "[encoded data removed]",
      "text/plain": [
       "<Figure size 432x288 with 1 Axes>"
      ]
     },
     "metadata": {
      "needs_background": "light"
     },
     "output_type": "display_data"
    },
    {
     "name": "stdout",
     "output_type": "stream",
     "text": [
      "Sentiment score histogram:\n",
      "-------------------------\n",
      "Polarity score ranges from -1 (very negative) to 1 (very positive).\n"
     ]
    }
   ],
   "source": [
    "main()"
   ]
  },
  {
   "cell_type": "code",
   "execution_count": null,
   "id": "ca9fec5d",
   "metadata": {},
   "outputs": [],
   "source": []
  }
 ],
 "metadata": {
  "kernelspec": {
   "display_name": "Python 3 (ipykernel)",
   "language": "python",
   "name": "python3"
  },
  "language_info": {
   "codemirror_mode": {
    "name": "ipython",
    "version": 3
   },
   "file_extension": ".py",
   "mimetype": "text/x-python",
   "name": "python",
   "nbconvert_exporter": "python",
   "pygments_lexer": "ipython3",
   "version": "3.10.6"
  }
 },
 "nbformat": 4,
 "nbformat_minor": 5
}
