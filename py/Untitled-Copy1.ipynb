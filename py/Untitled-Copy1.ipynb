{
 "cells": [
  {
   "cell_type": "code",
   "execution_count": 2,
   "id": "e3d828ae",
   "metadata": {},
   "outputs": [],
   "source": [
    "import tweepy\n",
    "from textblob import TextBlob"
   ]
  },
  {
   "cell_type": "code",
   "execution_count": 3,
   "id": "ed5b61c9",
   "metadata": {},
   "outputs": [],
   "source": [
    "def authenticate():\n",
    "    consumer_key = 'VRDK1GvONXQTiRWoc3Y5Nmkyv'\n",
    "    consumer_secret = 'uoKyZaMtxKQRAZfmTbWjP2T4I2vBWgoKbmoSSZn585Mk4uCwpv'\n",
    "    access_token = '1649440446580510720-AjcmXC6q4MF5Qw7y9lkARAXhTRjG3p'\n",
    "    access_secret = 'VDtwSFyhgdtb71aTBUJ9sEJ492dyJX2RBfkzmqIQFDOsr'\n",
    "    \n",
    "    auth = tweepy.OAuthHandler(consumer_key, consumer_secret)\n",
    "    auth.set_access_token(access_token, access_secret)\n",
    "    \n",
    "    api = tweepy.API(auth)\n",
    "    return api"
   ]
  },
  {
   "cell_type": "code",
   "execution_count": 4,
   "id": "969a23a6",
   "metadata": {},
   "outputs": [],
   "source": [
    "def get_tweets(api, topic, count=10):\n",
    "    tweets = []\n",
    "    for tweet in tweepy.Cursor(api.search_tweets, q=topic, lang='en').items(count):\n",
    "        tweets.append(tweet.text)\n",
    "    return tweets"
   ]
  },
  {
   "cell_type": "code",
   "execution_count": 5,
   "id": "089b11b0",
   "metadata": {},
   "outputs": [],
   "source": [
    "def analyze_sentiment(tweet):\n",
    "    analysis = TextBlob(tweet)\n",
    "    if analysis.sentiment.polarity > 0:\n",
    "        return 'Positive'\n",
    "    elif analysis.sentiment.polarity == 0:\n",
    "        return 'Neutral'\n",
    "    else:\n",
    "        return 'Negative'\n"
   ]
  },
  {
   "cell_type": "code",
   "execution_count": 6,
   "id": "b45a42c6",
   "metadata": {},
   "outputs": [],
   "source": [
    "def main():\n",
    "    api = authenticate()\n",
    "    topic = input('Enter a topic to search for: ')\n",
    "    count = int(input('Enter the number of tweets to analyze: '))\n",
    "    \n",
    "    tweets = get_tweets(api, topic, count)\n",
    "    for tweet in tweets:\n",
    "        sentiment = analyze_sentiment(tweet)\n",
    "        print(tweet)\n",
    "        print('Sentiment:', sentiment)\n",
    "        print()"
   ]
  },
  {
   "cell_type": "code",
   "execution_count": 7,
   "id": "5149af56",
   "metadata": {},
   "outputs": [
    {
     "name": "stdout",
     "output_type": "stream",
     "text": [
      "Enter a topic to search for: elon musk\n",
      "Enter the number of tweets to analyze: 1\n",
      "RT @SocialistNHS: We are refusing to pay Elon Musk for a blue tick\n",
      "\n",
      "However we need more followers to ensure people keep seeing our message…\n",
      "Sentiment: Positive\n",
      "\n"
     ]
    }
   ],
   "source": [
    "main()"
   ]
  },
  {
   "cell_type": "code",
   "execution_count": null,
   "id": "2bc66656",
   "metadata": {},
   "outputs": [],
   "source": []
  }
 ],
 "metadata": {
  "kernelspec": {
   "display_name": "Python 3 (ipykernel)",
   "language": "python",
   "name": "python3"
  },
  "language_info": {
   "codemirror_mode": {
    "name": "ipython",
    "version": 3
   },
   "file_extension": ".py",
   "mimetype": "text/x-python",
   "name": "python",
   "nbconvert_exporter": "python",
   "pygments_lexer": "ipython3",
   "version": "3.10.6"
  }
 },
 "nbformat": 4,
 "nbformat_minor": 5
}
